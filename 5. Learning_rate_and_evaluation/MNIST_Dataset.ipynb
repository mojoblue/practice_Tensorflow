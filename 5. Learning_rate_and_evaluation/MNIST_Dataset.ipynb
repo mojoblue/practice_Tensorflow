{
 "cells": [
  {
   "cell_type": "code",
   "execution_count": 1,
   "metadata": {
    "collapsed": true
   },
   "outputs": [],
   "source": [
    "import tensorflow as tf\n",
    "import numpy as np\n",
    "from tensorflow.examples.tutorials.mnist import input_data"
   ]
  },
  {
   "cell_type": "markdown",
   "metadata": {},
   "source": [
    "https://www.tensorflow.org/get_started/mnist/beginners 에서 MNIST 데이터셋의 정보를 볼 수 있다."
   ]
  },
  {
   "cell_type": "code",
   "execution_count": 2,
   "metadata": {
    "scrolled": true
   },
   "outputs": [
    {
     "name": "stdout",
     "output_type": "stream",
     "text": [
      "Extracting MNIST_data/train-images-idx3-ubyte.gz\n",
      "Extracting MNIST_data/train-labels-idx1-ubyte.gz\n",
      "Extracting MNIST_data/t10k-images-idx3-ubyte.gz\n",
      "Extracting MNIST_data/t10k-labels-idx1-ubyte.gz\n"
     ]
    }
   ],
   "source": [
    "mnist = input_data.read_data_sets(\"MNIST_data/\", one_hot=True)"
   ]
  },
  {
   "cell_type": "markdown",
   "metadata": {},
   "source": [
    "위의 코드에서 UnicodeEncodeError가 발생하면 http://imsjhong.blogspot.kr/2017/07/tensorflow-3.html 를 참고"
   ]
  },
  {
   "cell_type": "code",
   "execution_count": 3,
   "metadata": {},
   "outputs": [],
   "source": [
    "nb_classes = 10\n",
    "\n",
    "# MNIST data image of shape 28 * 28 = 784\n",
    "X = tf.placeholder(tf.float32, [None, 784])\n",
    "# 0 - 9 digits recognition = 10 classes\n",
    "Y = tf.placeholder(tf.float32, [None, nb_classes])\n",
    "\n",
    "W = tf.Variable(tf.random_normal([784, nb_classes]))\n",
    "b = tf.Variable(tf.random_normal([nb_classes]))"
   ]
  },
  {
   "cell_type": "code",
   "execution_count": 4,
   "metadata": {
    "collapsed": true
   },
   "outputs": [],
   "source": [
    "# Hypothesis (using softmax)\n",
    "hypothesis = tf.nn.softmax(tf.matmul(X, W) + b)\n",
    "\n",
    "cost = tf.reduce_mean(-tf.reduce_sum(Y * tf.log(hypothesis), axis=1))\n",
    "optimizer = tf.train.GradientDescentOptimizer(learning_rate=0.1).minimize(cost)\n",
    "\n",
    "# Test model\n",
    "is_correct = tf.equal(tf.arg_max(hypothesis, 1), tf.arg_max(Y, 1))\n",
    "# Calculate accuracy\n",
    "accuracy = tf.reduce_mean(tf.cast(is_correct, tf.float32))"
   ]
  },
  {
   "cell_type": "code",
   "execution_count": 5,
   "metadata": {
    "scrolled": true
   },
   "outputs": [
    {
     "name": "stdout",
     "output_type": "stream",
     "text": [
      "Epoch: 0001 cost = 2.828889277\n",
      "Epoch: 0006 cost = 0.637568454\n",
      "Epoch: 0011 cost = 0.513115213\n",
      "Epoch: 0016 cost = 0.454408005\n",
      "Epoch: 0021 cost = 0.417756679\n",
      "Epoch: 0026 cost = 0.391003192\n",
      "Epoch: 0031 cost = 0.371290085\n",
      "Epoch: 0036 cost = 0.356074184\n",
      "Epoch: 0041 cost = 0.343018484\n",
      "Epoch: 0046 cost = 0.332766158\n",
      "Epoch: 0051 cost = 0.323727757\n",
      "Epoch: 0056 cost = 0.316406820\n",
      "Epoch: 0061 cost = 0.309691281\n",
      "Epoch: 0066 cost = 0.304090624\n",
      "Epoch: 0071 cost = 0.298969434\n",
      "Epoch: 0076 cost = 0.294498510\n",
      "Epoch: 0081 cost = 0.290314861\n",
      "Epoch: 0086 cost = 0.286981011\n",
      "Epoch: 0091 cost = 0.283566763\n",
      "Epoch: 0096 cost = 0.280805618\n",
      "Epoch: 0101 cost = 0.277939062\n",
      "Epoch: 0106 cost = 0.275584380\n",
      "Epoch: 0111 cost = 0.273135142\n",
      "Epoch: 0116 cost = 0.271171293\n",
      "Epoch: 0121 cost = 0.269328187\n",
      "Epoch: 0126 cost = 0.267312727\n",
      "Epoch: 0131 cost = 0.265730756\n",
      "Epoch: 0136 cost = 0.264149985\n",
      "Epoch: 0141 cost = 0.262554469\n",
      "Epoch: 0146 cost = 0.261185058\n",
      "Accuracy:  0.918\n"
     ]
    }
   ],
   "source": [
    "# parameters\n",
    "training_epochs = 150\n",
    "batch_size = 100\n",
    "\n",
    "sess = tf.Session()\n",
    "# Initialize TensorFlow variables\n",
    "sess.run(tf.global_variables_initializer())\n",
    "# Training cycle\n",
    "for epoch in range(training_epochs):\n",
    "    avg_cost = 0\n",
    "    total_batch = int(mnist.train.num_examples / batch_size)\n",
    "        \n",
    "    for i in range(total_batch):\n",
    "        batch_xs, batch_ys = mnist.train.next_batch(batch_size)\n",
    "        c, _ = sess.run([cost, optimizer], feed_dict={X: batch_xs, Y: batch_ys})\n",
    "        avg_cost += c / total_batch\n",
    "    if epoch % 5 == 0:    \n",
    "        print('Epoch:', '%04d' % (epoch +1), 'cost =', '{:.9f}'.format(avg_cost))\n",
    "    # Test the model using test sets\n",
    "print(\"Accuracy: \", accuracy.eval(session=sess,\n",
    "                                    feed_dict={X: mnist.test.images, Y: mnist.test.labels}))"
   ]
  },
  {
   "cell_type": "code",
   "execution_count": 6,
   "metadata": {},
   "outputs": [],
   "source": [
    "import matplotlib.pyplot as plt\n",
    "import random"
   ]
  },
  {
   "cell_type": "code",
   "execution_count": 7,
   "metadata": {},
   "outputs": [
    {
     "name": "stdout",
     "output_type": "stream",
     "text": [
      "Label: [9]\n",
      "Prediction: [9]\n"
     ]
    },
    {
     "data": {
      "image/png": "[encoded data removed]",
      "text/plain": [
       "<matplotlib.figure.Figure at 0x2cb2630bcf8>"
      ]
     },
     "metadata": {},
     "output_type": "display_data"
    }
   ],
   "source": [
    "# Get one and predict\n",
    "r = random.randint(0, mnist.test.num_examples - 1)\n",
    "print(\"Label:\", sess.run(tf.argmax(mnist.test.labels[r:r + 1], 1)))\n",
    "print(\"Prediction:\", sess.run(tf.argmax(hypothesis, 1),\n",
    "                             feed_dict={X: mnist.test.images[r:r + 1]}))\n",
    "plt.imshow(mnist.test.images[r:r + 1].\n",
    "          reshape(28, 28), cmap='Greys', interpolation='nearest')\n",
    "plt.show()"
   ]
  }
 ],
 "metadata": {
  "kernelspec": {
   "display_name": "Python 3",
   "language": "python",
   "name": "python3"
  },
  "language_info": {
   "codemirror_mode": {
    "name": "ipython",
    "version": 3
   },
   "file_extension": ".py",
   "mimetype": "text/x-python",
   "name": "python",
   "nbconvert_exporter": "python",
   "pygments_lexer": "ipython3",
   "version": "3.5.3"
  }
 },
 "nbformat": 4,
 "nbformat_minor": 2
}
